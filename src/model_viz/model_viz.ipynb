{
 "cells": [
  {
   "cell_type": "code",
   "execution_count": 2,
   "metadata": {},
   "outputs": [],
   "source": [
    "import sys\n",
    "import os\n",
    "sys.path.append(os.path.dirname(os.getcwd()))\n",
    "import torch\n",
    "from models import Unet\n",
    "from dataset import ExpUtils\n"
   ]
  },
  {
   "cell_type": "markdown",
   "metadata": {},
   "source": [
    "# Create models and dummy inference"
   ]
  },
  {
   "cell_type": "code",
   "execution_count": 3,
   "metadata": {},
   "outputs": [],
   "source": [
    "decision = 'h'\n",
    "exp_utils = ExpUtils(['SI2017', 'ALTI'], \n",
    "                            'TLM5c', \n",
    "                            decision=decision)\n",
    "decoder_channels = (256, 128, 64, 32)\n",
    "upsample = (True, True, True, False)\n",
    "model = Unet(encoder_depth=4, \n",
    "                decoder_channels=decoder_channels,\n",
    "                in_channels=exp_utils.input_channels[0], \n",
    "                aux_channels=exp_utils.aux_channels,\n",
    "                classes=exp_utils.output_channels,\n",
    "                upsample=upsample,\n",
    "                aux_in_channels=1,\n",
    "                aux_in_position=1,\n",
    "                decision=decision)\n",
    "\n",
    "x0 = torch.randn(1, 3, 512, 512)\n",
    "x1 = torch.randn(1, 1, 256, 256)\n"
   ]
  },
  {
   "cell_type": "markdown",
   "metadata": {},
   "source": [
    "# With onnx format (to be opened with Netron software)"
   ]
  },
  {
   "cell_type": "code",
   "execution_count": 4,
   "metadata": {
    "tags": []
   },
   "outputs": [],
   "source": [
    "torch.onnx.export(model, args = (x0, x1), f = \"baseline_SI2017_ALTI_2.onnx\",\n",
    "                    verbose=False, \n",
    "                    input_names=['SI', 'ALTI'])"
   ]
  }
 ],
 "metadata": {
  "interpreter": {
   "hash": "0be8d9981fa657335739bcd9ebe61ee826d1b2841e98b2072fb534d7dbecd3fd"
  },
  "kernelspec": {
   "display_name": "Python 3.7.1 64-bit ('ForestMapping2': conda)",
   "name": "python3"
  },
  "language_info": {
   "codemirror_mode": {
    "name": "ipython",
    "version": 3
   },
   "file_extension": ".py",
   "mimetype": "text/x-python",
   "name": "python",
   "nbconvert_exporter": "python",
   "pygments_lexer": "ipython3",
   "version": "3.9.7"
  },
  "orig_nbformat": 2
 },
 "nbformat": 4,
 "nbformat_minor": 2
}
